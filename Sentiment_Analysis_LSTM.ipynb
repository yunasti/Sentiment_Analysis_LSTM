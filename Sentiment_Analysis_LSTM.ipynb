{
  "nbformat": 4,
  "nbformat_minor": 0,
  "metadata": {
    "colab": {
      "name": "Sentiment_Analysis_LSTM.ipynb",
      "provenance": [],
      "collapsed_sections": []
    },
    "kernelspec": {
      "name": "python3",
      "display_name": "Python 3"
    }
  },
  "cells": [
    {
      "cell_type": "code",
      "metadata": {
        "id": "f-MAnvs1r4vs",
        "colab": {
          "base_uri": "https://localhost:8080/"
        },
        "outputId": "8d62363b-0c05-4c42-e225-c7658a8bab47"
      },
      "source": [
        "from google.colab import drive\r\n",
        "drive.mount('/content/gdrive')"
      ],
      "execution_count": 24,
      "outputs": [
        {
          "output_type": "stream",
          "text": [
            "Drive already mounted at /content/gdrive; to attempt to forcibly remount, call drive.mount(\"/content/gdrive\", force_remount=True).\n"
          ],
          "name": "stdout"
        }
      ]
    },
    {
      "cell_type": "markdown",
      "metadata": {
        "id": "040TOYuEEx9X"
      },
      "source": [
        "**Import Library**"
      ]
    },
    {
      "cell_type": "code",
      "metadata": {
        "id": "VbUqA8fULbQm"
      },
      "source": [
        "import pandas as pd\r\n",
        "import numpy as np\r\n",
        "import matplotlib.pyplot as plt\r\n",
        "import seaborn as sns\r\n",
        "%matplotlib inline\r\n",
        "import warnings\r\n",
        "warnings.filterwarnings(\"ignore\")"
      ],
      "execution_count": 25,
      "outputs": []
    },
    {
      "cell_type": "markdown",
      "metadata": {
        "id": "-CMIRR2zE9m_"
      },
      "source": [
        "**Import Data**"
      ]
    },
    {
      "cell_type": "code",
      "metadata": {
        "colab": {
          "base_uri": "https://localhost:8080/",
          "height": 615
        },
        "id": "_XEq6GyBLeCN",
        "outputId": "932a31ec-7f47-4dfc-e33b-2657197ed5f4"
      },
      "source": [
        "df = pd.read_csv(\"gdrive/MyDrive/Womens Clothing E-Commerce Reviews.csv\")\r\n",
        "df"
      ],
      "execution_count": 26,
      "outputs": [
        {
          "output_type": "execute_result",
          "data": {
            "text/html": [
              "<div>\n",
              "<style scoped>\n",
              "    .dataframe tbody tr th:only-of-type {\n",
              "        vertical-align: middle;\n",
              "    }\n",
              "\n",
              "    .dataframe tbody tr th {\n",
              "        vertical-align: top;\n",
              "    }\n",
              "\n",
              "    .dataframe thead th {\n",
              "        text-align: right;\n",
              "    }\n",
              "</style>\n",
              "<table border=\"1\" class=\"dataframe\">\n",
              "  <thead>\n",
              "    <tr style=\"text-align: right;\">\n",
              "      <th></th>\n",
              "      <th>Unnamed: 0</th>\n",
              "      <th>Clothing ID</th>\n",
              "      <th>Age</th>\n",
              "      <th>Title</th>\n",
              "      <th>Review Text</th>\n",
              "      <th>Rating</th>\n",
              "      <th>Recommended IND</th>\n",
              "      <th>Positive Feedback Count</th>\n",
              "      <th>Division Name</th>\n",
              "      <th>Department Name</th>\n",
              "      <th>Class Name</th>\n",
              "    </tr>\n",
              "  </thead>\n",
              "  <tbody>\n",
              "    <tr>\n",
              "      <th>0</th>\n",
              "      <td>0</td>\n",
              "      <td>767</td>\n",
              "      <td>33</td>\n",
              "      <td>NaN</td>\n",
              "      <td>Absolutely wonderful - silky and sexy and comf...</td>\n",
              "      <td>4</td>\n",
              "      <td>1</td>\n",
              "      <td>0</td>\n",
              "      <td>Initmates</td>\n",
              "      <td>Intimate</td>\n",
              "      <td>Intimates</td>\n",
              "    </tr>\n",
              "    <tr>\n",
              "      <th>1</th>\n",
              "      <td>1</td>\n",
              "      <td>1080</td>\n",
              "      <td>34</td>\n",
              "      <td>NaN</td>\n",
              "      <td>Love this dress!  it's sooo pretty.  i happene...</td>\n",
              "      <td>5</td>\n",
              "      <td>1</td>\n",
              "      <td>4</td>\n",
              "      <td>General</td>\n",
              "      <td>Dresses</td>\n",
              "      <td>Dresses</td>\n",
              "    </tr>\n",
              "    <tr>\n",
              "      <th>2</th>\n",
              "      <td>2</td>\n",
              "      <td>1077</td>\n",
              "      <td>60</td>\n",
              "      <td>Some major design flaws</td>\n",
              "      <td>I had such high hopes for this dress and reall...</td>\n",
              "      <td>3</td>\n",
              "      <td>0</td>\n",
              "      <td>0</td>\n",
              "      <td>General</td>\n",
              "      <td>Dresses</td>\n",
              "      <td>Dresses</td>\n",
              "    </tr>\n",
              "    <tr>\n",
              "      <th>3</th>\n",
              "      <td>3</td>\n",
              "      <td>1049</td>\n",
              "      <td>50</td>\n",
              "      <td>My favorite buy!</td>\n",
              "      <td>I love, love, love this jumpsuit. it's fun, fl...</td>\n",
              "      <td>5</td>\n",
              "      <td>1</td>\n",
              "      <td>0</td>\n",
              "      <td>General Petite</td>\n",
              "      <td>Bottoms</td>\n",
              "      <td>Pants</td>\n",
              "    </tr>\n",
              "    <tr>\n",
              "      <th>4</th>\n",
              "      <td>4</td>\n",
              "      <td>847</td>\n",
              "      <td>47</td>\n",
              "      <td>Flattering shirt</td>\n",
              "      <td>This shirt is very flattering to all due to th...</td>\n",
              "      <td>5</td>\n",
              "      <td>1</td>\n",
              "      <td>6</td>\n",
              "      <td>General</td>\n",
              "      <td>Tops</td>\n",
              "      <td>Blouses</td>\n",
              "    </tr>\n",
              "    <tr>\n",
              "      <th>...</th>\n",
              "      <td>...</td>\n",
              "      <td>...</td>\n",
              "      <td>...</td>\n",
              "      <td>...</td>\n",
              "      <td>...</td>\n",
              "      <td>...</td>\n",
              "      <td>...</td>\n",
              "      <td>...</td>\n",
              "      <td>...</td>\n",
              "      <td>...</td>\n",
              "      <td>...</td>\n",
              "    </tr>\n",
              "    <tr>\n",
              "      <th>23481</th>\n",
              "      <td>23481</td>\n",
              "      <td>1104</td>\n",
              "      <td>34</td>\n",
              "      <td>Great dress for many occasions</td>\n",
              "      <td>I was very happy to snag this dress at such a ...</td>\n",
              "      <td>5</td>\n",
              "      <td>1</td>\n",
              "      <td>0</td>\n",
              "      <td>General Petite</td>\n",
              "      <td>Dresses</td>\n",
              "      <td>Dresses</td>\n",
              "    </tr>\n",
              "    <tr>\n",
              "      <th>23482</th>\n",
              "      <td>23482</td>\n",
              "      <td>862</td>\n",
              "      <td>48</td>\n",
              "      <td>Wish it was made of cotton</td>\n",
              "      <td>It reminds me of maternity clothes. soft, stre...</td>\n",
              "      <td>3</td>\n",
              "      <td>1</td>\n",
              "      <td>0</td>\n",
              "      <td>General Petite</td>\n",
              "      <td>Tops</td>\n",
              "      <td>Knits</td>\n",
              "    </tr>\n",
              "    <tr>\n",
              "      <th>23483</th>\n",
              "      <td>23483</td>\n",
              "      <td>1104</td>\n",
              "      <td>31</td>\n",
              "      <td>Cute, but see through</td>\n",
              "      <td>This fit well, but the top was very see throug...</td>\n",
              "      <td>3</td>\n",
              "      <td>0</td>\n",
              "      <td>1</td>\n",
              "      <td>General Petite</td>\n",
              "      <td>Dresses</td>\n",
              "      <td>Dresses</td>\n",
              "    </tr>\n",
              "    <tr>\n",
              "      <th>23484</th>\n",
              "      <td>23484</td>\n",
              "      <td>1084</td>\n",
              "      <td>28</td>\n",
              "      <td>Very cute dress, perfect for summer parties an...</td>\n",
              "      <td>I bought this dress for a wedding i have this ...</td>\n",
              "      <td>3</td>\n",
              "      <td>1</td>\n",
              "      <td>2</td>\n",
              "      <td>General</td>\n",
              "      <td>Dresses</td>\n",
              "      <td>Dresses</td>\n",
              "    </tr>\n",
              "    <tr>\n",
              "      <th>23485</th>\n",
              "      <td>23485</td>\n",
              "      <td>1104</td>\n",
              "      <td>52</td>\n",
              "      <td>Please make more like this one!</td>\n",
              "      <td>This dress in a lovely platinum is feminine an...</td>\n",
              "      <td>5</td>\n",
              "      <td>1</td>\n",
              "      <td>22</td>\n",
              "      <td>General Petite</td>\n",
              "      <td>Dresses</td>\n",
              "      <td>Dresses</td>\n",
              "    </tr>\n",
              "  </tbody>\n",
              "</table>\n",
              "<p>23486 rows × 11 columns</p>\n",
              "</div>"
            ],
            "text/plain": [
              "       Unnamed: 0  Clothing ID  Age  ...   Division Name Department Name  Class Name\n",
              "0               0          767   33  ...       Initmates        Intimate   Intimates\n",
              "1               1         1080   34  ...         General         Dresses     Dresses\n",
              "2               2         1077   60  ...         General         Dresses     Dresses\n",
              "3               3         1049   50  ...  General Petite         Bottoms       Pants\n",
              "4               4          847   47  ...         General            Tops     Blouses\n",
              "...           ...          ...  ...  ...             ...             ...         ...\n",
              "23481       23481         1104   34  ...  General Petite         Dresses     Dresses\n",
              "23482       23482          862   48  ...  General Petite            Tops       Knits\n",
              "23483       23483         1104   31  ...  General Petite         Dresses     Dresses\n",
              "23484       23484         1084   28  ...         General         Dresses     Dresses\n",
              "23485       23485         1104   52  ...  General Petite         Dresses     Dresses\n",
              "\n",
              "[23486 rows x 11 columns]"
            ]
          },
          "metadata": {
            "tags": []
          },
          "execution_count": 26
        }
      ]
    },
    {
      "cell_type": "code",
      "metadata": {
        "colab": {
          "base_uri": "https://localhost:8080/"
        },
        "id": "vn1AVmftARCH",
        "outputId": "590f413b-dfdb-44ab-ec34-2d24596c4c6d"
      },
      "source": [
        "print(\"Summary statistics of numerical features : \\n\", df.describe())\r\n",
        "\r\n",
        "print(\"=======================================================================\")\r\n",
        "\r\n",
        "print(\"\\nTotal number of reviews: \",len(df))\r\n",
        "\r\n",
        "print(\"=======================================================================\")\r\n",
        "\r\n",
        "print(\"\\nTotal number of class: \", len(list(set(df['Class Name']))))\r\n",
        "\r\n",
        "print(\"=======================================================================\")\r\n",
        "\r\n",
        "print(\"\\nTotal number of unique products: \", len(list(set(df['Clothing ID']))))\r\n",
        "\r\n",
        "print(\"=======================================================================\")\r\n",
        "\r\n",
        "print(\"\\nPercentage of reviews with neutral sentiment : {:.2f}%\"\\\r\n",
        "      .format(df[df['Rating']==3][\"Review Text\"].count()/len(df)*100))\r\n",
        "\r\n",
        "print(\"=======================================================================\")\r\n",
        "\r\n",
        "print(\"\\nPercentage of reviews with positive sentiment : {:.2f}%\"\\\r\n",
        "      .format(df[df['Rating']>3][\"Review Text\"].count()/len(df)*100))\r\n",
        "\r\n",
        "print(\"=======================================================================\")\r\n",
        "\r\n",
        "print(\"\\nPercentage of reviews with negative sentiment : {:.2f}%\"\\\r\n",
        "      .format(df[df['Rating']<3][\"Review Text\"].count()/len(df)*100))\r\n",
        "print(\"=======================================================================\")"
      ],
      "execution_count": 33,
      "outputs": [
        {
          "output_type": "stream",
          "text": [
            "Summary statistics of numerical features : \n",
            "          Unnamed: 0  Clothing ID  ...  Positive Feedback Count    Sentiment\n",
            "count   1711.000000  1711.000000  ...              1711.000000  1711.000000\n",
            "mean   11677.462887   925.073057  ...                 2.592636     0.868498\n",
            "std     6776.483834   193.339416  ...                 5.554676     0.338047\n",
            "min       18.000000    24.000000  ...                 0.000000     0.000000\n",
            "25%     5765.000000   862.000000  ...                 0.000000     1.000000\n",
            "50%    11733.000000   939.000000  ...                 1.000000     1.000000\n",
            "75%    17755.500000  1078.000000  ...                 3.000000     1.000000\n",
            "max    23476.000000  1205.000000  ...                87.000000     1.000000\n",
            "\n",
            "[8 rows x 7 columns]\n",
            "=======================================================================\n",
            "\n",
            "Total number of reviews:  1711\n",
            "=======================================================================\n",
            "\n",
            "Total number of class:  18\n",
            "=======================================================================\n",
            "\n",
            "Total number of unique products:  345\n",
            "=======================================================================\n",
            "\n",
            "Percentage of reviews with neutral sentiment : 0.00%\n",
            "=======================================================================\n",
            "\n",
            "Percentage of reviews with positive sentiment : 86.85%\n",
            "=======================================================================\n",
            "\n",
            "Percentage of reviews with negative sentiment : 13.15%\n",
            "=======================================================================\n"
          ],
          "name": "stdout"
        }
      ]
    },
    {
      "cell_type": "markdown",
      "metadata": {
        "id": "Pvzw8bfcFHZB"
      },
      "source": [
        "**Visualisasi Data**"
      ]
    },
    {
      "cell_type": "code",
      "metadata": {
        "colab": {
          "base_uri": "https://localhost:8080/",
          "height": 346
        },
        "id": "587qk8xhA0ZR",
        "outputId": "b90f0ff8-06ff-49aa-8eb1-e08e1586fcba"
      },
      "source": [
        "plt.figure(figsize=(12,5))\r\n",
        "# sns.countplot(df['Rating'])\r\n",
        "df['Rating'].value_counts().sort_index().plot(kind='bar')\r\n",
        "plt.title('Distribution of Rating')\r\n",
        "plt.grid()\r\n",
        "plt.xlabel('Rating')\r\n",
        "plt.ylabel('Count')\r\n",
        "ax = plt.axes()\r\n",
        "ax.set_facecolor(\"white\")"
      ],
      "execution_count": 28,
      "outputs": [
        {
          "output_type": "display_data",
          "data": {
            "image/png": "[encoded data removed]",
            "text/plain": [
              "<Figure size 864x360 with 1 Axes>"
            ]
          },
          "metadata": {
            "tags": [],
            "needs_background": "light"
          }
        }
      ]
    },
    {
      "cell_type": "code",
      "metadata": {
        "colab": {
          "base_uri": "https://localhost:8080/",
          "height": 513
        },
        "id": "1oPAlS77BGMw",
        "outputId": "2198d4c1-fab5-4594-8568-7d8b09fdf22a"
      },
      "source": [
        "review_length = df[\"Review Text\"].dropna().map(lambda x: len(x))\r\n",
        "plt.figure(figsize=(12,8))\r\n",
        "review_length.loc[review_length < 1500].hist()\r\n",
        "plt.title(\"Distribution of Review Length\")\r\n",
        "plt.xlabel('Review length (Number of character)')\r\n",
        "plt.ylabel('Count')\r\n",
        "ax = plt.axes()\r\n",
        "ax.set_facecolor(\"white\")"
      ],
      "execution_count": 29,
      "outputs": [
        {
          "output_type": "display_data",
          "data": {
            "image/png": "[encoded data removed]",
            "text/plain": [
              "<Figure size 864x576 with 1 Axes>"
            ]
          },
          "metadata": {
            "tags": [],
            "needs_background": "light"
          }
        }
      ]
    },
    {
      "cell_type": "markdown",
      "metadata": {
        "id": "GarZwmYiFPuU"
      },
      "source": [
        "**Data Preparation**"
      ]
    },
    {
      "cell_type": "code",
      "metadata": {
        "colab": {
          "base_uri": "https://localhost:8080/",
          "height": 363
        },
        "id": "bE6E2bDO8oAL",
        "outputId": "9059bfe1-05af-4853-c86b-713c2eaf225f"
      },
      "source": [
        "df = df.sample(frac=0.1, random_state=0) #uncomment to use full set of data\r\n",
        "\r\n",
        "# Drop missing values\r\n",
        "df.dropna(inplace=True)\r\n",
        "\r\n",
        "# Remove any 'neutral' ratings equal to 3\r\n",
        "df = df[df['Rating'] != 3]\r\n",
        "\r\n",
        "# Encode 4s and 5s as 1 (positive sentiment) and 1s and 2s as 0 (negative sentiment)\r\n",
        "df['Sentiment'] = np.where(df['Rating'] > 3, 1, 0)\r\n",
        "df.head()"
      ],
      "execution_count": 30,
      "outputs": [
        {
          "output_type": "execute_result",
          "data": {
            "text/html": [
              "<div>\n",
              "<style scoped>\n",
              "    .dataframe tbody tr th:only-of-type {\n",
              "        vertical-align: middle;\n",
              "    }\n",
              "\n",
              "    .dataframe tbody tr th {\n",
              "        vertical-align: top;\n",
              "    }\n",
              "\n",
              "    .dataframe thead th {\n",
              "        text-align: right;\n",
              "    }\n",
              "</style>\n",
              "<table border=\"1\" class=\"dataframe\">\n",
              "  <thead>\n",
              "    <tr style=\"text-align: right;\">\n",
              "      <th></th>\n",
              "      <th>Unnamed: 0</th>\n",
              "      <th>Clothing ID</th>\n",
              "      <th>Age</th>\n",
              "      <th>Title</th>\n",
              "      <th>Review Text</th>\n",
              "      <th>Rating</th>\n",
              "      <th>Recommended IND</th>\n",
              "      <th>Positive Feedback Count</th>\n",
              "      <th>Division Name</th>\n",
              "      <th>Department Name</th>\n",
              "      <th>Class Name</th>\n",
              "      <th>Sentiment</th>\n",
              "    </tr>\n",
              "  </thead>\n",
              "  <tbody>\n",
              "    <tr>\n",
              "      <th>12906</th>\n",
              "      <td>12906</td>\n",
              "      <td>984</td>\n",
              "      <td>57</td>\n",
              "      <td>Unique</td>\n",
              "      <td>Just received and sorry to return. i am 5'9\" i...</td>\n",
              "      <td>4</td>\n",
              "      <td>1</td>\n",
              "      <td>1</td>\n",
              "      <td>General Petite</td>\n",
              "      <td>Jackets</td>\n",
              "      <td>Jackets</td>\n",
              "      <td>1</td>\n",
              "    </tr>\n",
              "    <tr>\n",
              "      <th>22440</th>\n",
              "      <td>22440</td>\n",
              "      <td>872</td>\n",
              "      <td>60</td>\n",
              "      <td>Simple beauty</td>\n",
              "      <td>This is a tts basic tee with the added flare o...</td>\n",
              "      <td>5</td>\n",
              "      <td>1</td>\n",
              "      <td>3</td>\n",
              "      <td>General Petite</td>\n",
              "      <td>Tops</td>\n",
              "      <td>Knits</td>\n",
              "      <td>1</td>\n",
              "    </tr>\n",
              "    <tr>\n",
              "      <th>13965</th>\n",
              "      <td>13965</td>\n",
              "      <td>862</td>\n",
              "      <td>35</td>\n",
              "      <td>Love this top!</td>\n",
              "      <td>I am very happy with this shirt. i don't like ...</td>\n",
              "      <td>5</td>\n",
              "      <td>1</td>\n",
              "      <td>0</td>\n",
              "      <td>General</td>\n",
              "      <td>Tops</td>\n",
              "      <td>Knits</td>\n",
              "      <td>1</td>\n",
              "    </tr>\n",
              "    <tr>\n",
              "      <th>19166</th>\n",
              "      <td>19166</td>\n",
              "      <td>1121</td>\n",
              "      <td>25</td>\n",
              "      <td>Beautiful design, poor execution</td>\n",
              "      <td>I knew i needed to buy this trench from the mo...</td>\n",
              "      <td>1</td>\n",
              "      <td>0</td>\n",
              "      <td>4</td>\n",
              "      <td>General</td>\n",
              "      <td>Jackets</td>\n",
              "      <td>Outerwear</td>\n",
              "      <td>0</td>\n",
              "    </tr>\n",
              "    <tr>\n",
              "      <th>12522</th>\n",
              "      <td>12522</td>\n",
              "      <td>1059</td>\n",
              "      <td>25</td>\n",
              "      <td>Adorable on!!!</td>\n",
              "      <td>This is so cute with a shirt or tee under neat...</td>\n",
              "      <td>5</td>\n",
              "      <td>1</td>\n",
              "      <td>3</td>\n",
              "      <td>General</td>\n",
              "      <td>Bottoms</td>\n",
              "      <td>Pants</td>\n",
              "      <td>1</td>\n",
              "    </tr>\n",
              "  </tbody>\n",
              "</table>\n",
              "</div>"
            ],
            "text/plain": [
              "       Unnamed: 0  Clothing ID  Age  ... Department Name Class Name  Sentiment\n",
              "12906       12906          984   57  ...         Jackets    Jackets          1\n",
              "22440       22440          872   60  ...            Tops      Knits          1\n",
              "13965       13965          862   35  ...            Tops      Knits          1\n",
              "19166       19166         1121   25  ...         Jackets  Outerwear          0\n",
              "12522       12522         1059   25  ...         Bottoms      Pants          1\n",
              "\n",
              "[5 rows x 12 columns]"
            ]
          },
          "metadata": {
            "tags": []
          },
          "execution_count": 30
        }
      ]
    },
    {
      "cell_type": "code",
      "metadata": {
        "colab": {
          "base_uri": "https://localhost:8080/",
          "height": 297
        },
        "id": "ekCqgc_s9B3C",
        "outputId": "dd2f6071-ff65-4acf-b80d-6e4799ad2968"
      },
      "source": [
        "negative = len(df[df['Sentiment']=='positive'])\r\n",
        "positive = len(df) - negative\r\n",
        "sns.countplot(df['Sentiment'])\r\n",
        "print('Positive reviews are {} and negative reviews are {} of total {} '.format(positive,negative,len(df)))"
      ],
      "execution_count": 31,
      "outputs": [
        {
          "output_type": "stream",
          "text": [
            "Positive reviews are 1711 and negative reviews are 0 of total 1711 \n"
          ],
          "name": "stdout"
        },
        {
          "output_type": "display_data",
          "data": {
            "image/png": "[encoded data removed]",
            "text/plain": [
              "<Figure size 432x288 with 1 Axes>"
            ]
          },
          "metadata": {
            "tags": [],
            "needs_background": "light"
          }
        }
      ]
    },
    {
      "cell_type": "markdown",
      "metadata": {
        "id": "EHf_9_i3FZ_2"
      },
      "source": [
        "**Train Test Split**"
      ]
    },
    {
      "cell_type": "code",
      "metadata": {
        "colab": {
          "base_uri": "https://localhost:8080/"
        },
        "id": "Vw4Kv1hf8MCP",
        "outputId": "4b077386-e82c-4bb9-87ad-c274bf90b76b"
      },
      "source": [
        "from sklearn.model_selection import train_test_split\r\n",
        "X_train, X_test, y_train, y_test = train_test_split(df['Review Text'], df['Sentiment'], \\\r\n",
        "                                                    test_size=0.1, random_state=0)\r\n",
        "\r\n",
        "print('Load %d training examples and %d validation examples. \\n' %(X_train.shape[0],X_test.shape[0]))\r\n",
        "print('Show a review in the training set : \\n', X_train.iloc[10])\r\n",
        "X_train,y_train"
      ],
      "execution_count": 32,
      "outputs": [
        {
          "output_type": "stream",
          "text": [
            "Load 1539 training examples and 172 validation examples. \n",
            "\n",
            "Show a review in the training set : \n",
            " Got the small petite. length is perfect, love the color, super comfy, very pretty. the problem is that you cannot wear a bra because under the armpits is so low that either shows your bra (a lot) or if u wear sans bra you may show your breasts (it's loose all around on top, so very easy to show everything. if i adjust the straps it works but then the waist goes up and it looks like i have a belly. i'm taking to a seamstress to see if she can take in under armpits, if not it's going back. i'm 5',\n"
          ],
          "name": "stdout"
        },
        {
          "output_type": "execute_result",
          "data": {
            "text/plain": [
              "(8218     I love how you can wear this with a t-shirt or...\n",
              " 21721    I'm giving these leggings 5 stars although i d...\n",
              " 14641    I love these shorts. love that the inseam is l...\n",
              " 15902    This sweater vest is versatile and adorable --...\n",
              " 20540    Quality jumpsuit but poor design. the green ma...\n",
              "                                ...                        \n",
              " 7955     This blouse has a nice casual feel with femini...\n",
              " 4883     Love this white jean jacket! love the stretchy...\n",
              " 13650    I purchased this dress as an easy option to th...\n",
              " 18684    Looks cute on! not super form fitting... more ...\n",
              " 1785     Love this shirt, very flattering fit on my pea...\n",
              " Name: Review Text, Length: 1539, dtype: object, 8218     1\n",
              " 21721    1\n",
              " 14641    1\n",
              " 15902    1\n",
              " 20540    0\n",
              "         ..\n",
              " 7955     1\n",
              " 4883     1\n",
              " 13650    1\n",
              " 18684    1\n",
              " 1785     1\n",
              " Name: Sentiment, Length: 1539, dtype: int64)"
            ]
          },
          "metadata": {
            "tags": []
          },
          "execution_count": 32
        }
      ]
    },
    {
      "cell_type": "markdown",
      "metadata": {
        "id": "aICw8zvOFnLw"
      },
      "source": [
        "**Text Preprocessing**"
      ]
    },
    {
      "cell_type": "code",
      "metadata": {
        "id": "JXoFBx6M8Xgp"
      },
      "source": [
        "def cleanText(raw_text, remove_stopwords=False, stemming=False, split_text=False, \\\r\n",
        "             ):\r\n",
        "    '''\r\n",
        "    Convert a raw review to a cleaned review\r\n",
        "    '''\r\n",
        "    text = BeautifulSoup(raw_text, 'html.parser').get_text()\r\n",
        "    letters_only = re.sub(\"[^a-zA-Z]\", \" \", text)\r\n",
        "    words = letters_only.lower().split() \r\n",
        "    \r\n",
        "    if remove_stopwords:\r\n",
        "        stops = set(stopwords.words(\"english\"))\r\n",
        "        words = [w for w in words if not w in stops]\r\n",
        "        \r\n",
        "    if stemming==True:\r\n",
        "\r\n",
        "        stemmer = SnowballStemmer('english') \r\n",
        "        words = [stemmer.stem(w) for w in words]\r\n",
        "        \r\n",
        "    if split_text==True:\r\n",
        "        return (words)\r\n",
        "    \r\n",
        "    return( \" \".join(words))"
      ],
      "execution_count": 12,
      "outputs": []
    },
    {
      "cell_type": "markdown",
      "metadata": {
        "id": "7IxD-77EGS6E"
      },
      "source": [
        "**LSTM**"
      ]
    },
    {
      "cell_type": "code",
      "metadata": {
        "id": "WrYUU59CU3wP"
      },
      "source": [
        "from keras.preprocessing.text import Tokenizer\r\n",
        "from keras.preprocessing.sequence import pad_sequences\r\n",
        "from keras.layers import Dense , Input , LSTM , Embedding, Dropout , Activation, GRU, Flatten\r\n",
        "from keras.layers import Bidirectional, GlobalMaxPool1D\r\n",
        "from keras.models import Model, Sequential\r\n",
        "from keras.layers import Convolution1D\r\n",
        "from keras import initializers, regularizers, constraints, optimizers, layers"
      ],
      "execution_count": 14,
      "outputs": []
    },
    {
      "cell_type": "code",
      "metadata": {
        "colab": {
          "base_uri": "https://localhost:8080/"
        },
        "id": "nHHrab7mU2t3",
        "outputId": "0a03f50c-755f-440e-aba0-da384a7823a4"
      },
      "source": [
        "from sklearn.model_selection import train_test_split\r\n",
        "from sklearn.metrics import accuracy_score,f1_score, confusion_matrix\r\n",
        "\r\n",
        "train_df, test_df = train_test_split(df, test_size = 0.2, random_state = 42)\r\n",
        "print(\"Training data size : \", train_df.shape)\r\n",
        "print(\"Test data size : \", test_df.shape)"
      ],
      "execution_count": 15,
      "outputs": [
        {
          "output_type": "stream",
          "text": [
            "Training data size :  (1368, 12)\n",
            "Test data size :  (343, 12)\n"
          ],
          "name": "stdout"
        }
      ]
    },
    {
      "cell_type": "code",
      "metadata": {
        "id": "Zq6geZPiVM3a"
      },
      "source": [
        "\r\n",
        "top_words = 20000\r\n",
        "tokenizer = Tokenizer(num_words=top_words)\r\n",
        "tokenizer.fit_on_texts(train_df['Review Text'])\r\n",
        "list_tokenized_train = tokenizer.texts_to_sequences(train_df['Review Text'])\r\n",
        "\r\n",
        "max_review_length = 200\r\n",
        "X_train = pad_sequences(list_tokenized_train, maxlen=max_review_length)\r\n",
        "y_train = train_df['Sentiment']"
      ],
      "execution_count": 17,
      "outputs": []
    },
    {
      "cell_type": "code",
      "metadata": {
        "colab": {
          "base_uri": "https://localhost:8080/"
        },
        "id": "pYNaFAF3Vmx5",
        "outputId": "99d29092-cc4d-4eae-ddc9-73430f2420fe"
      },
      "source": [
        "embedding_vecor_length = 32\r\n",
        "model = Sequential()\r\n",
        "model.add(Embedding(top_words+1, embedding_vecor_length, input_length=max_review_length))\r\n",
        "model.add(LSTM(100))\r\n",
        "model.add(Dense(1, activation='sigmoid'))\r\n",
        "model.compile(loss='binary_crossentropy', optimizer='adam', metrics=['accuracy'])\r\n",
        "model.summary()"
      ],
      "execution_count": 18,
      "outputs": [
        {
          "output_type": "stream",
          "text": [
            "Model: \"sequential\"\n",
            "_________________________________________________________________\n",
            "Layer (type)                 Output Shape              Param #   \n",
            "=================================================================\n",
            "embedding (Embedding)        (None, 200, 32)           640032    \n",
            "_________________________________________________________________\n",
            "lstm (LSTM)                  (None, 100)               53200     \n",
            "_________________________________________________________________\n",
            "dense (Dense)                (None, 1)                 101       \n",
            "=================================================================\n",
            "Total params: 693,333\n",
            "Trainable params: 693,333\n",
            "Non-trainable params: 0\n",
            "_________________________________________________________________\n"
          ],
          "name": "stdout"
        }
      ]
    },
    {
      "cell_type": "code",
      "metadata": {
        "colab": {
          "base_uri": "https://localhost:8080/"
        },
        "id": "L3xhEtaSV5kC",
        "outputId": "3ead94a0-7375-4c0f-881e-54245069a0e0"
      },
      "source": [
        "model.fit(X_train,y_train, epochs=20, batch_size=64, validation_split=0.2)"
      ],
      "execution_count": 19,
      "outputs": [
        {
          "output_type": "stream",
          "text": [
            "Epoch 1/20\n",
            "18/18 [==============================] - 8s 296ms/step - loss: 0.6172 - accuracy: 0.7860 - val_loss: 0.4057 - val_accuracy: 0.8577\n",
            "Epoch 2/20\n",
            "18/18 [==============================] - 5s 261ms/step - loss: 0.4276 - accuracy: 0.8545 - val_loss: 0.4241 - val_accuracy: 0.8577\n",
            "Epoch 3/20\n",
            "18/18 [==============================] - 5s 265ms/step - loss: 0.3872 - accuracy: 0.8696 - val_loss: 0.3973 - val_accuracy: 0.8577\n",
            "Epoch 4/20\n",
            "18/18 [==============================] - 5s 258ms/step - loss: 0.3498 - accuracy: 0.8767 - val_loss: 0.3769 - val_accuracy: 0.8577\n",
            "Epoch 5/20\n",
            "18/18 [==============================] - 5s 256ms/step - loss: 0.3148 - accuracy: 0.8625 - val_loss: 0.3484 - val_accuracy: 0.8613\n",
            "Epoch 6/20\n",
            "18/18 [==============================] - 5s 254ms/step - loss: 0.2195 - accuracy: 0.9355 - val_loss: 0.3702 - val_accuracy: 0.8613\n",
            "Epoch 7/20\n",
            "18/18 [==============================] - 5s 254ms/step - loss: 0.0977 - accuracy: 0.9695 - val_loss: 0.3381 - val_accuracy: 0.8577\n",
            "Epoch 8/20\n",
            "18/18 [==============================] - 5s 256ms/step - loss: 0.0462 - accuracy: 0.9914 - val_loss: 0.3238 - val_accuracy: 0.8650\n",
            "Epoch 9/20\n",
            "18/18 [==============================] - 5s 257ms/step - loss: 0.0308 - accuracy: 0.9971 - val_loss: 0.4406 - val_accuracy: 0.8832\n",
            "Epoch 10/20\n",
            "18/18 [==============================] - 5s 258ms/step - loss: 0.0113 - accuracy: 1.0000 - val_loss: 0.5886 - val_accuracy: 0.8796\n",
            "Epoch 11/20\n",
            "18/18 [==============================] - 5s 262ms/step - loss: 0.0165 - accuracy: 0.9966 - val_loss: 0.4961 - val_accuracy: 0.8796\n",
            "Epoch 12/20\n",
            "18/18 [==============================] - 5s 256ms/step - loss: 0.0058 - accuracy: 1.0000 - val_loss: 0.4446 - val_accuracy: 0.8650\n",
            "Epoch 13/20\n",
            "18/18 [==============================] - 5s 254ms/step - loss: 0.0105 - accuracy: 0.9976 - val_loss: 0.4756 - val_accuracy: 0.8759\n",
            "Epoch 14/20\n",
            "18/18 [==============================] - 5s 256ms/step - loss: 0.0022 - accuracy: 1.0000 - val_loss: 0.5378 - val_accuracy: 0.8832\n",
            "Epoch 15/20\n",
            "18/18 [==============================] - 5s 255ms/step - loss: 0.0015 - accuracy: 1.0000 - val_loss: 0.5968 - val_accuracy: 0.8832\n",
            "Epoch 16/20\n",
            "18/18 [==============================] - 5s 258ms/step - loss: 0.0012 - accuracy: 1.0000 - val_loss: 0.6353 - val_accuracy: 0.8759\n",
            "Epoch 17/20\n",
            "18/18 [==============================] - 5s 254ms/step - loss: 0.0024 - accuracy: 1.0000 - val_loss: 0.6156 - val_accuracy: 0.8832\n",
            "Epoch 18/20\n",
            "18/18 [==============================] - 5s 254ms/step - loss: 0.0015 - accuracy: 1.0000 - val_loss: 0.5542 - val_accuracy: 0.8686\n",
            "Epoch 19/20\n",
            "18/18 [==============================] - 5s 253ms/step - loss: 0.0016 - accuracy: 1.0000 - val_loss: 0.6132 - val_accuracy: 0.8723\n",
            "Epoch 20/20\n",
            "18/18 [==============================] - 5s 256ms/step - loss: 0.0011 - accuracy: 1.0000 - val_loss: 0.6482 - val_accuracy: 0.8832\n"
          ],
          "name": "stdout"
        },
        {
          "output_type": "execute_result",
          "data": {
            "text/plain": [
              "<tensorflow.python.keras.callbacks.History at 0x7f5ce6a20630>"
            ]
          },
          "metadata": {
            "tags": []
          },
          "execution_count": 19
        }
      ]
    },
    {
      "cell_type": "code",
      "metadata": {
        "colab": {
          "base_uri": "https://localhost:8080/"
        },
        "id": "Syr2wuQMWQt1",
        "outputId": "6329ba44-e275-45ec-9f0d-ee4b7aa72e9d"
      },
      "source": [
        "list_tokenized_test = tokenizer.texts_to_sequences(test_df['Review Text'])\r\n",
        "X_test = pad_sequences(list_tokenized_test, maxlen=max_review_length)\r\n",
        "y_test = test_df['Sentiment']\r\n",
        "prediction = model.predict(X_test)\r\n",
        "y_pred = (prediction > 0.5)\r\n",
        "print(\"Accuracy of the model : \", accuracy_score(y_pred, y_test))\r\n",
        "print('F1-score: ', f1_score(y_pred, y_test))\r\n",
        "print('Confusion matrix:')\r\n",
        "confusion_matrix(y_test,y_pred)"
      ],
      "execution_count": 21,
      "outputs": [
        {
          "output_type": "stream",
          "text": [
            "Accuracy of the model :  0.924198250728863\n",
            "F1-score:  0.957516339869281\n",
            "Confusion matrix:\n"
          ],
          "name": "stdout"
        },
        {
          "output_type": "execute_result",
          "data": {
            "text/plain": [
              "array([[ 24,  17],\n",
              "       [  9, 293]])"
            ]
          },
          "metadata": {
            "tags": []
          },
          "execution_count": 21
        }
      ]
    }
  ]
}